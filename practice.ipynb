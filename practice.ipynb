{
 "cells": [
  {
   "cell_type": "code",
   "execution_count": 1,
   "metadata": {},
   "outputs": [
    {
     "name": "stdout",
     "output_type": "stream",
     "text": [
      "hello\n"
     ]
    }
   ],
   "source": [
    "print(\"hello\")"
   ]
  },
  {
   "cell_type": "code",
   "execution_count": 23,
   "metadata": {},
   "outputs": [
    {
     "name": "stdout",
     "output_type": "stream",
     "text": [
      "[17, 19]\n"
     ]
    }
   ],
   "source": [
    "import sys\n",
    "\n",
    "def absDiff(arr1,arr2):\n",
    "    min_abs_diff = sys.maxsize\n",
    "    min_pair = [-1,-1]\n",
    "    m = len(arr1)\n",
    "    n = len(arr2)\n",
    "    for i  in range(m):\n",
    "        for j in range(n):\n",
    "            diff = abs(arr1[i] - arr2[j])\n",
    "            if diff < min_abs_diff:\n",
    "                min_abs_diff = diff\n",
    "                min_pair = [arr1[i],arr2[j]]\n",
    "    return min_pair\n",
    "    # return [arr1[i],arr2[j]]\n",
    "\n",
    "a1 = [23,5,10,17,30]\n",
    "a2 = [26,134,135,14,19]\n",
    "print(absDiff(a1,a2))"
   ]
  },
  {
   "cell_type": "code",
   "execution_count": 45,
   "metadata": {},
   "outputs": [
    {
     "name": "stdout",
     "output_type": "stream",
     "text": [
      "[120, 60, 40, 30, 24]\n"
     ]
    }
   ],
   "source": [
    "def arrProduct(a):\n",
    "    n = len(a)\n",
    "    if n == 1:\n",
    "        return [0]\n",
    "    \n",
    "    i=1\n",
    "    temp = 1\n",
    "    product=[1]*n\n",
    "\n",
    "    for i in range(n):\n",
    "        product[i] = temp\n",
    "        temp *= a[i] \n",
    "\n",
    "    temp = 1\n",
    "    for i in range(n-1,-1,-1):\n",
    "        product[i] *= temp\n",
    "        temp *= a[i]\n",
    "    \n",
    "    return product\n",
    "\n",
    "print(arrProduct(a=[1,2,3,4,5]))"
   ]
  },
  {
   "cell_type": "code",
   "execution_count": 2,
   "metadata": {},
   "outputs": [
    {
     "name": "stdout",
     "output_type": "stream",
     "text": [
      "I%20liked%20the%20movie,%20acting%20in%20movie%20was%20great!\n"
     ]
    }
   ],
   "source": [
    "a = \"I liked the movie, acting in movie was great!\"\n",
    "new_a = a.replace(\" \",\"%20\")\n",
    "print(new_a)"
   ]
  },
  {
   "cell_type": "code",
   "execution_count": 4,
   "metadata": {},
   "outputs": [
    {
     "name": "stdout",
     "output_type": "stream",
     "text": [
      "['I', 'liked', 'the', 'movie,', 'acting', 'in', 'movie', 'was', 'great!']\n",
      "I\n",
      "liked\n",
      "the\n",
      "movie,\n",
      "acting\n",
      "in\n",
      "movie\n",
      "was\n",
      "great!\n"
     ]
    }
   ],
   "source": [
    "a = \"I liked the movie, acting in movie was great!\"\n",
    "new_a = a.split(\" \")\n",
    "print(new_a)\n",
    "for i in range(len(new_a)):\n",
    "    print(new_a[i])"
   ]
  },
  {
   "cell_type": "code",
   "execution_count": 8,
   "metadata": {},
   "outputs": [
    {
     "name": "stdout",
     "output_type": "stream",
     "text": [
      "['a']\n",
      "['a']\n",
      "['b']\n",
      "['b', 'c']\n",
      "['b', 'c']\n",
      "['b', 'd']\n",
      "/b/d\n"
     ]
    }
   ],
   "source": [
    "def simplify_path(path: str) -> str:\n",
    "    # Split the path by '/' and initialize a stack\n",
    "    parts = path.split('/')\n",
    "    stack = []\n",
    "    \n",
    "    for part in parts:\n",
    "        if part == '' or part == '.':\n",
    "            # Ignore empty parts and current directory\n",
    "            continue\n",
    "        elif part == '..':\n",
    "            # Go up to the parent directory if possible\n",
    "            if stack:\n",
    "                print(stack)\n",
    "                stack.pop()\n",
    "        else:\n",
    "            # Add the valid directory to the stack\n",
    "            stack.append(part)\n",
    "            print(stack)\n",
    "\n",
    "    # Join the stack to form the canonical path\n",
    "    simplified_path = '/' + '/'.join(stack)\n",
    "    return simplified_path\n",
    "\n",
    "# Example usage\n",
    "input_path = \"/./a/../b//c/../d/.\"\n",
    "output_path = simplify_path(input_path)\n",
    "print(output_path)  # Output: /b/d\n"
   ]
  },
  {
   "cell_type": "code",
   "execution_count": 7,
   "metadata": {},
   "outputs": [
    {
     "name": "stdout",
     "output_type": "stream",
     "text": [
      "a: 1\n",
      "b: 1\n"
     ]
    }
   ],
   "source": [
    "a=1\n",
    "# while a<=1:\n",
    "a =+ 1\n",
    "b = a\n",
    "print('a:',a)\n",
    "print('b:',b)"
   ]
  },
  {
   "cell_type": "code",
   "execution_count": 8,
   "metadata": {},
   "outputs": [
    {
     "name": "stdout",
     "output_type": "stream",
     "text": [
      "['cat', 'rat', 'elephant']\n"
     ]
    }
   ],
   "source": [
    "animals = ['cat', 'bat', 'rat', 'elephant']\n",
    "animals.pop(1)\n",
    "print(animals)"
   ]
  },
  {
   "cell_type": "code",
   "execution_count": 11,
   "metadata": {},
   "outputs": [
    {
     "name": "stdout",
     "output_type": "stream",
     "text": [
      "15\n"
     ]
    }
   ],
   "source": [
    "# ar = [1,2,3]\n",
    "size = int(input())\n",
    "ar=[]\n",
    "for i in range(size):\n",
    "    x = int(input())\n",
    "    ar.append(x)\n",
    "s = 0\n",
    "for i in range(size):\n",
    "    s += ar[i]\n",
    "print(s)"
   ]
  },
  {
   "cell_type": "code",
   "execution_count": 30,
   "metadata": {},
   "outputs": [
    {
     "name": "stdout",
     "output_type": "stream",
     "text": [
      "[2, 1]\n"
     ]
    }
   ],
   "source": [
    "a=[17,17,30]\n",
    "b=[99,16,8]\n",
    "res = []\n",
    "count_a=0\n",
    "count_b=0\n",
    "n=len(a)\n",
    "for i in range(n):\n",
    "    # if a[i] == b[i]:\n",
    "    #     pass\n",
    "\n",
    "    if a[i]>b[i]:\n",
    "        count_a += 1\n",
    "    elif a[i]<b[i]:\n",
    "        count_b += 1\n",
    "\n",
    "    # if a[i]<b[i]:\n",
    "    #     count_b += 1\n",
    "\n",
    "res.append(count_a)\n",
    "res.append(count_b)\n",
    "print(res)"
   ]
  },
  {
   "cell_type": "code",
   "execution_count": 3,
   "metadata": {},
   "outputs": [
    {
     "name": "stdout",
     "output_type": "stream",
     "text": [
      "[1, 5, 9]\n",
      "[3, 5, 9]\n",
      "2\n"
     ]
    }
   ],
   "source": [
    "n = 3\n",
    "a = [[1,2,3],[4,5,6],[9,8,9]]\n",
    "res1 = []\n",
    "res2 = []\n",
    "for i in range(n):\n",
    "    for j in range(n):\n",
    "        if i==j: # for primary diagonal elements\n",
    "            res1.append(a[i][j])\n",
    "        \n",
    "        if i+j == n-1: # for secondary diagonal elements\n",
    "            res2.append(a[i][j])\n",
    "\n",
    "s1 = sum(res1)\n",
    "s2 = sum(res2)\n",
    "\n",
    "final  = abs(s1-s2)\n",
    "print(final)\n"
   ]
  },
  {
   "cell_type": "code",
   "execution_count": 13,
   "metadata": {},
   "outputs": [
    {
     "name": "stdout",
     "output_type": "stream",
     "text": [
      "0.500000\n",
      "0.333333\n",
      "0.166667\n"
     ]
    }
   ],
   "source": [
    "a=[-4,3,-9,0,4,1]\n",
    "n = len(a)\n",
    "pc = 0\n",
    "nc = 0\n",
    "zc = 0\n",
    "for i in range(n):\n",
    "    if a[i]>0:\n",
    "        pc += 1\n",
    "    elif a[i]<0:\n",
    "        nc += 1\n",
    "    elif a[i]==0:\n",
    "        zc += 1\n",
    "\n",
    "pr = pc/n\n",
    "fpr = format(pr,\".6f\")\n",
    "nr = nc/n\n",
    "fnr = format(nr,\".6f\")\n",
    "zr = zc/n\n",
    "fzr = format(zr,\".6f\")\n",
    "print(fpr)\n",
    "print(fnr)\n",
    "print(fzr)"
   ]
  },
  {
   "cell_type": "code",
   "execution_count": 12,
   "metadata": {},
   "outputs": [
    {
     "name": "stdout",
     "output_type": "stream",
     "text": [
      "***\n",
      "** *\n",
      "*   *\n",
      "** *\n",
      "***\n"
     ]
    }
   ],
   "source": [
    "row = 3\n",
    "for i in range(1, row+1):\n",
    "    for j in range(1,row-i+1):\n",
    "        print(\"*\", end=\"\")\n",
    "    for j in range(1, 2*i):\n",
    "        if j==1 or j==2*i-1:\n",
    "            print(\"*\", end=\"\")\n",
    "        else:\n",
    "            print(\" \", end=\"\")\n",
    "    print()\n",
    "\n",
    "for i in range(row-1,0, -1):\n",
    "    for j in range(1,row-i+1):\n",
    "        print(\"*\", end=\"\")\n",
    "    for j in range(1, 2*i):\n",
    "        if j==1 or j==2*i-1:\n",
    "            print(\"*\", end=\"\")\n",
    "        else:\n",
    "            print(\" \", end=\"\")\n",
    "    print()"
   ]
  },
  {
   "cell_type": "code",
   "execution_count": 51,
   "metadata": {},
   "outputs": [
    {
     "name": "stdout",
     "output_type": "stream",
     "text": [
      "     #\n",
      "    ##\n",
      "   ###\n",
      "  ####\n",
      " #####\n",
      "######\n"
     ]
    }
   ],
   "source": [
    "n=6\n",
    "for i in range(1,n+1):\n",
    "    for space in range(i,n):\n",
    "        print(\" \",end=\"\")\n",
    "    for j in range(1,i+1):\n",
    "        print(\"#\",end=\"\")\n",
    "    print()"
   ]
  },
  {
   "cell_type": "code",
   "execution_count": 2,
   "metadata": {},
   "outputs": [
    {
     "name": "stdout",
     "output_type": "stream",
     "text": [
      "24\n"
     ]
    }
   ],
   "source": [
    "import sys\n",
    "INT_MIN = - sys.maxsize - 1\n",
    "\n",
    "def sliding_window(arr,k,n):\n",
    "    max_sum = INT_MIN\n",
    "    for i in range(n-k+1):\n",
    "        current_sum = 0\n",
    "        for j in range(k):\n",
    "            current_sum = current_sum+arr[i+j]\n",
    "        max_sum = max(current_sum,max_sum)\n",
    "\n",
    "    return max_sum\n",
    "\n",
    "arr = [1,3,5,7,9]\n",
    "k=4\n",
    "n=len(arr)\n",
    "print(sliding_window(arr,k,n)) "
   ]
  },
  {
   "cell_type": "code",
   "execution_count": 19,
   "metadata": {},
   "outputs": [
    {
     "name": "stdout",
     "output_type": "stream",
     "text": [
      "[299, 9271]\n"
     ]
    }
   ],
   "source": [
    "def min_max_sum(arr):\n",
    "    n = len(arr)\n",
    "    arr.sort()\n",
    "    cur_sum_min = 0\n",
    "    cur_sum_max = 0\n",
    "    min_sum = 0\n",
    "    max_sum = 0\n",
    "    \n",
    "    for i in range(0,n-1):\n",
    "        cur_sum_min = cur_sum_min + arr[i]\n",
    "        # print(\"min_sum at every iteration: \",cur_sum_min)\n",
    "    min_sum = cur_sum_min\n",
    "    \n",
    "    for i in range(1,n):\n",
    "        cur_sum_max = cur_sum_max + arr[i]\n",
    "        # print(\"max_sum at every iteration: \",cur_sum_max)\n",
    "    max_sum = cur_sum_max\n",
    "    \n",
    "    return [min_sum,max_sum]\n",
    "\n",
    "arr = [7,69,2,221,8974]\n",
    "print(min_max_sum(arr)) \n"
   ]
  },
  {
   "cell_type": "code",
   "execution_count": 27,
   "metadata": {},
   "outputs": [
    {
     "name": "stdout",
     "output_type": "stream",
     "text": [
      "2063136757 2744467344\n",
      "None\n"
     ]
    }
   ],
   "source": [
    "def min_max_sum(arr):\n",
    "    n = len(arr)\n",
    "    arr.sort()\n",
    "    total_sum=0\n",
    "    for i in range(n):\n",
    "        total_sum = total_sum + arr[i]\n",
    "    \n",
    "    min_sum = total_sum-arr[n-1]\n",
    "    max_sum = total_sum-arr[0]\n",
    "    print(min_sum,max_sum)\n",
    "    return\n",
    "\n",
    "arr = [256741038,623958417,467905213,714532089,938071625]\n",
    "print(min_max_sum(arr))"
   ]
  },
  {
   "cell_type": "code",
   "execution_count": 30,
   "metadata": {},
   "outputs": [
    {
     "ename": "UnboundLocalError",
     "evalue": "cannot access local variable 'min_val' where it is not associated with a value",
     "output_type": "error",
     "traceback": [
      "\u001b[0;31m---------------------------------------------------------------------------\u001b[0m",
      "\u001b[0;31mUnboundLocalError\u001b[0m                         Traceback (most recent call last)",
      "Cell \u001b[0;32mIn[30], line 21\u001b[0m\n\u001b[1;32m     18\u001b[0m     \u001b[38;5;28;01mreturn\u001b[39;00m\n\u001b[1;32m     20\u001b[0m arr \u001b[38;5;241m=\u001b[39m [\u001b[38;5;241m44\u001b[39m,\u001b[38;5;241m2\u001b[39m,\u001b[38;5;241m1\u001b[39m,\u001b[38;5;241m59\u001b[39m,\u001b[38;5;241m6\u001b[39m]\n\u001b[0;32m---> 21\u001b[0m \u001b[43mmin_max_sum2\u001b[49m\u001b[43m(\u001b[49m\u001b[43marr\u001b[49m\u001b[43m)\u001b[49m\n",
      "Cell \u001b[0;32mIn[30], line 11\u001b[0m, in \u001b[0;36mmin_max_sum2\u001b[0;34m(arr)\u001b[0m\n\u001b[1;32m      9\u001b[0m \u001b[38;5;28;01mfor\u001b[39;00m i \u001b[38;5;129;01min\u001b[39;00m \u001b[38;5;28mrange\u001b[39m(n):\n\u001b[1;32m     10\u001b[0m     total_sum \u001b[38;5;241m+\u001b[39m\u001b[38;5;241m=\u001b[39m arr[i]\n\u001b[0;32m---> 11\u001b[0m     min_val \u001b[38;5;241m=\u001b[39m \u001b[38;5;28mmin\u001b[39m(\u001b[43mmin_val\u001b[49m,arr[i])\n\u001b[1;32m     12\u001b[0m     max_val \u001b[38;5;241m=\u001b[39m \u001b[38;5;28mmax\u001b[39m(max_val,arr[i])\n\u001b[1;32m     14\u001b[0m min_sum \u001b[38;5;241m=\u001b[39m total_sum \u001b[38;5;241m-\u001b[39m max_val\n",
      "\u001b[0;31mUnboundLocalError\u001b[0m: cannot access local variable 'min_val' where it is not associated with a value"
     ]
    }
   ],
   "source": [
    "import sys\n",
    "INT_MIN = - sys.maxsize - 1\n",
    "INT_MAX = sys.maxsize\n",
    "min_val = INT_MAX\n",
    "max_val = INT_MIN\n",
    "\n",
    "def min_max_sum2(arr):\n",
    "    total_sum = 0\n",
    "    for i in range(n):\n",
    "        total_sum += arr[i]\n",
    "        min_val = min(min_val,arr[i])\n",
    "        max_val = max(max_val,arr[i])\n",
    "\n",
    "    min_sum = total_sum - max_val\n",
    "    max_sum = total_sum - min_val\n",
    "\n",
    "    print(min_sum,max_sum)\n",
    "    return\n",
    "\n",
    "arr = [44,2,1,59,6]\n",
    "min_max_sum2(arr)"
   ]
  },
  {
   "cell_type": "code",
   "execution_count": 32,
   "metadata": {},
   "outputs": [
    {
     "name": "stdout",
     "output_type": "stream",
     "text": [
      "2063136757 2744467344\n"
     ]
    }
   ],
   "source": [
    "def min_max_sum3(arr):\n",
    "    total_sum = sum(arr)\n",
    "    min_val = min(arr)\n",
    "    max_val = max(arr)\n",
    "\n",
    "    min_sum = total_sum-max_val\n",
    "    max_sum = total_sum-min_val\n",
    "\n",
    "    print(min_sum,max_sum)\n",
    "    return\n",
    "\n",
    "arr = [256741038,623958417,467905213,714532089,938071625]\n",
    "min_max_sum3(arr)"
   ]
  },
  {
   "cell_type": "code",
   "execution_count": 33,
   "metadata": {},
   "outputs": [
    {
     "name": "stdout",
     "output_type": "stream",
     "text": [
      "4\n"
     ]
    }
   ],
   "source": [
    "a=[3,2,1,3]\n",
    "n = len(a)\n",
    "count = 0\n",
    "for i in range(n):\n",
    "    for j in range(1,n):\n",
    "        if a[i] == a[j]:\n",
    "            count += 1\n",
    "\n",
    "print(count)"
   ]
  },
  {
   "cell_type": "code",
   "execution_count": 37,
   "metadata": {},
   "outputs": [
    {
     "data": {
      "text/plain": [
       "2"
      ]
     },
     "execution_count": 37,
     "metadata": {},
     "output_type": "execute_result"
    }
   ],
   "source": [
    "def count_max_repeated(arr):\n",
    "    freq = {}\n",
    "    for num in arr:\n",
    "        if num in freq:\n",
    "            freq[num] += 1\n",
    "        else:\n",
    "            freq[num] = 1\n",
    "\n",
    "    max_freq = 0\n",
    "    for count in freq.values():\n",
    "        if count>max_freq:\n",
    "            max_freq = count\n",
    "\n",
    "\n",
    "    return max_freq\n",
    "\n",
    "a = [3,2,1,3]\n",
    "count_max_repeated(a)"
   ]
  },
  {
   "cell_type": "code",
   "execution_count": 7,
   "metadata": {},
   "outputs": [
    {
     "name": "stdout",
     "output_type": "stream",
     "text": [
      "1 + 2 + 3 + 4 + 5 + "
     ]
    },
    {
     "data": {
      "text/plain": [
       "15"
      ]
     },
     "execution_count": 7,
     "metadata": {},
     "output_type": "execute_result"
    }
   ],
   "source": [
    "def sum_it_up(n):\n",
    "    sum = 0\n",
    "    if n==0:\n",
    "        return 0\n",
    "    sum = n + sum_it_up(n-1)\n",
    "    print(n,end=\"\")\n",
    "    print(\" + \",end = \"\")\n",
    "    return sum\n",
    "\n",
    "a = 5\n",
    "sum_it_up(a)\n"
   ]
  },
  {
   "cell_type": "code",
   "execution_count": 5,
   "metadata": {},
   "outputs": [
    {
     "name": "stdout",
     "output_type": "stream",
     "text": [
      "1e-323\n"
     ]
    }
   ],
   "source": [
    "def whatItDoes(n):\n",
    "    if n/10 == 0:\n",
    "        print(n)\n",
    "        return\n",
    "    n%10\n",
    "    whatItDoes(n/10)\n",
    "\n",
    "n = 10\n",
    "whatItDoes(n)"
   ]
  },
  {
   "cell_type": "code",
   "execution_count": 9,
   "metadata": {},
   "outputs": [
    {
     "name": "stdout",
     "output_type": "stream",
     "text": [
      "[1, 1, 0]\n"
     ]
    }
   ],
   "source": [
    "def move_zeros(arr):\n",
    "    j=0\n",
    "    for i in range(len(arr)):\n",
    "        if arr[i]!=0:\n",
    "            arr[i],arr[j]=arr[j],arr[i]\n",
    "            j+=1\n",
    "\n",
    "# arr = [0, 1, 0, 3, 12, 0, 5]\n",
    "arr=[0,1,1]\n",
    "move_zeros(arr)\n",
    "print(arr)"
   ]
  },
  {
   "cell_type": "code",
   "execution_count": 12,
   "metadata": {},
   "outputs": [
    {
     "name": "stdout",
     "output_type": "stream",
     "text": [
      "[1, 3, 12, 5, 0, 0, 0]\n"
     ]
    }
   ],
   "source": [
    "def move_zeros(arr):\n",
    "    j=0\n",
    "    for i in range(len(arr)):\n",
    "        if arr[i]!=0:\n",
    "            temp = arr[i]\n",
    "            arr[i] = arr[j]\n",
    "            arr[j] = temp\n",
    "            j += 1\n",
    "\n",
    "arr=[0,1,1,1]\n",
    "arr1=[0, 1, 0, 3, 12, 0, 5]\n",
    "move_zeros(arr1)\n",
    "print(arr1)    "
   ]
  }
 ],
 "metadata": {
  "kernelspec": {
   "display_name": "Python 3",
   "language": "python",
   "name": "python3"
  },
  "language_info": {
   "codemirror_mode": {
    "name": "ipython",
    "version": 3
   },
   "file_extension": ".py",
   "mimetype": "text/x-python",
   "name": "python",
   "nbconvert_exporter": "python",
   "pygments_lexer": "ipython3",
   "version": "3.11.1"
  }
 },
 "nbformat": 4,
 "nbformat_minor": 2
}
